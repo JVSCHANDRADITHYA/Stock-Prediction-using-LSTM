{
 "cells": [
  {
   "cell_type": "code",
   "execution_count": null,
   "metadata": {},
   "outputs": [],
   "source": [
    "# Data Exploration Notebook: data_exploration.ipynb\n",
    "\n",
    "# Import necessary libraries\n",
    "import pandas as pd\n",
    "import matplotlib.pyplot as plt\n",
    "import seaborn as sns\n",
    "\n",
    "# Load data\n",
    "data = pd.read_csv('../data/stock_prices.csv', parse_dates=['Date'], index_col='Date')\n",
    "\n",
    "# Visualize stock price trends\n",
    "plt.figure(figsize=(14, 7))\n",
    "plt.plot(data['Close'], label='Close Price History')\n",
    "plt.title('Stock Close Price History')\n",
    "plt.xlabel('Date')\n",
    "plt.ylabel('Close Price')\n",
    "plt.legend()\n",
    "plt.show()\n",
    "\n",
    "# Correlation heatmap\n",
    "plt.figure(figsize=(10, 6))\n",
    "sns.heatmap(data.corr(), annot=True, cmap='coolwarm')\n",
    "plt.title('Feature Correlation')\n",
    "plt.show()\n",
    "\n",
    "# Train/Test Split Visualization\n",
    "from sklearn.model_selection import train_test_split\n",
    "X_train, X_test, _, _ = train_test_split(data[['Close']], data[['Close']], test_size=0.2, random_state=42)\n",
    "plt.figure(figsize=(14, 7))\n",
    "plt.plot(X_train.index, X_train['Close'], label='Training Data', color='blue')\n",
    "plt.plot(X_test.index, X_test['Close'], label='Testing Data', color='red')\n",
    "plt.title('Train/Test Split')\n",
    "plt.xlabel('Date')\n",
    "plt.ylabel('Close Price')\n",
    "plt.legend()\n",
    "plt.show()\n",
    "\n",
    "# Display the first few rows of the data\n",
    "data.head()\n"
   ]
  }
 ],
 "metadata": {
  "language_info": {
   "name": "python"
  }
 },
 "nbformat": 4,
 "nbformat_minor": 2
}
